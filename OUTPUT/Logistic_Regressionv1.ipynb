{
  "nbformat": 4,
  "nbformat_minor": 0,
  "metadata": {
    "colab": {
      "provenance": []
    },
    "kernelspec": {
      "name": "python3",
      "display_name": "Python 3"
    },
    "language_info": {
      "name": "python"
    }
  },
  "cells": [
    {
      "cell_type": "markdown",
      "source": [
        "Load the data from the Excel file in Google Drive -- People other than Derek will need change the file path location"
      ],
      "metadata": {
        "id": "Re3yFC0gqYEJ"
      }
    },
    {
      "cell_type": "code",
      "source": [
        "import pandas as pd\n",
        "from sklearn.model_selection import train_test_split\n",
        "from sklearn.linear_model import LogisticRegression\n",
        "from sklearn.metrics import accuracy_score, classification_report\n",
        "\n",
        "#Loading the Data\n",
        "from google.colab import drive\n",
        "drive.mount('/content/drive')\n",
        "file_path = \"/content/drive/MyDrive/DS 4002 Project Group 14/DS Proj2 Data Master Sheet.xlsx\"\n",
        "df = pd.read_excel(file_path)\n",
        "\n",
        "print(df.head())"
      ],
      "metadata": {
        "colab": {
          "base_uri": "https://localhost:8080/"
        },
        "id": "JnC-_xcEn020",
        "outputId": "156a8835-5415-42f5-8eeb-a437db981dc7"
      },
      "execution_count": 1,
      "outputs": [
        {
          "output_type": "stream",
          "name": "stdout",
          "text": [
            "Drive already mounted at /content/drive; to attempt to forcibly remount, call drive.mount(\"/content/drive\", force_remount=True).\n",
            "     FL_DATE day_of_week OP_UNIQUE_CARRIER ORIGIN  ORIGIN_CODE  DEP_DELAY_NEW  \\\n",
            "0 2023-01-01      Sunday                9E    ATL          1.0            0.0   \n",
            "1 2023-01-01      Sunday                9E    ATL          1.0            0.0   \n",
            "2 2023-01-01      Sunday                9E    ATL          1.0            0.0   \n",
            "3 2023-01-01      Sunday                9E    ATL          1.0            0.0   \n",
            "4 2023-01-01      Sunday                9E    ATL          1.0            0.0   \n",
            "\n",
            "   CANCELLED  CARRIER_DELAY  WEATHER_DELAY  NAS_DELAY  LATE_AIRCRAFT_DELAY  \n",
            "0        0.0            NaN            NaN        NaN                  NaN  \n",
            "1        0.0            NaN            NaN        NaN                  NaN  \n",
            "2        0.0            NaN            NaN        NaN                  NaN  \n",
            "3        0.0            NaN            NaN        NaN                  NaN  \n",
            "4        0.0            NaN            NaN        NaN                  NaN  \n"
          ]
        }
      ]
    },
    {
      "cell_type": "markdown",
      "source": [
        "Code has already been cleaned in Excel.\n",
        "\n",
        "I need to split the data in training & testing sets."
      ],
      "metadata": {
        "id": "VqnlVxVso19B"
      }
    },
    {
      "cell_type": "code",
      "source": [
        "from sklearn.impute import SimpleImputer\n",
        "\n",
        "target_column = 'day_of_week'\n",
        "feature_columns = ['ORIGIN_CODE', 'CARRIER_DELAY']\n",
        "\n",
        "# Separate features and target variable\n",
        "X = df[feature_columns]\n",
        "y = df[target_column]\n",
        "\n",
        "# Instantiate the imputer\n",
        "imputer = SimpleImputer(strategy='mean')  # You can also use 'median' or 'most_frequent'\n",
        "\n",
        "# Fit the imputer to the data and transform X\n",
        "X_imputed = imputer.fit_transform(X)\n",
        "\n",
        "# Split the data into train and test sets\n",
        "X_train, X_test, y_train, y_test = train_test_split(X_imputed, y, test_size=0.2, random_state=42)\n",
        "\n",
        "# Train the logistic regression model\n",
        "model = LogisticRegression()\n",
        "model.fit(X_train, y_train)\n",
        "\n",
        "# Make predictions on the test set\n",
        "predictions = model.predict(X_test)\n",
        "\n",
        "# Evaluate the model\n",
        "accuracy = model.score(X_test, y_test)\n",
        "print(\"Accuracy:\", accuracy)\n",
        "\n",
        "# Print classification report for more detailed evaluation\n",
        "print(\"Classification Report:\")\n",
        "print(classification_report(y_test, predictions))"
      ],
      "metadata": {
        "colab": {
          "base_uri": "https://localhost:8080/"
        },
        "id": "ruCP5ayqyMeP",
        "outputId": "3c9fcb48-1468-4dd2-e749-2ba923812c10"
      },
      "execution_count": 9,
      "outputs": [
        {
          "output_type": "stream",
          "name": "stdout",
          "text": [
            "Accuracy: 0.14725253511690495\n",
            "Classification Report:\n"
          ]
        },
        {
          "output_type": "stream",
          "name": "stderr",
          "text": [
            "/usr/local/lib/python3.10/dist-packages/sklearn/metrics/_classification.py:1344: UndefinedMetricWarning: Precision and F-score are ill-defined and being set to 0.0 in labels with no predicted samples. Use `zero_division` parameter to control this behavior.\n",
            "  _warn_prf(average, modifier, msg_start, len(result))\n",
            "/usr/local/lib/python3.10/dist-packages/sklearn/metrics/_classification.py:1344: UndefinedMetricWarning: Precision and F-score are ill-defined and being set to 0.0 in labels with no predicted samples. Use `zero_division` parameter to control this behavior.\n",
            "  _warn_prf(average, modifier, msg_start, len(result))\n"
          ]
        },
        {
          "output_type": "stream",
          "name": "stdout",
          "text": [
            "              precision    recall  f1-score   support\n",
            "\n",
            "      Friday       0.15      0.57      0.23     26107\n",
            "      Monday       0.15      0.02      0.04     25642\n",
            "    Saturday       0.14      0.00      0.00     22977\n",
            "      Sunday       0.00      0.00      0.00     25884\n",
            "    Thursday       0.15      0.41      0.22     25853\n",
            "     Tuesday       0.00      0.00      0.00     24635\n",
            "   Wednesday       0.00      0.00      0.00     25028\n",
            "\n",
            "    accuracy                           0.15    176126\n",
            "   macro avg       0.08      0.14      0.07    176126\n",
            "weighted avg       0.08      0.15      0.07    176126\n",
            "\n"
          ]
        },
        {
          "output_type": "stream",
          "name": "stderr",
          "text": [
            "/usr/local/lib/python3.10/dist-packages/sklearn/metrics/_classification.py:1344: UndefinedMetricWarning: Precision and F-score are ill-defined and being set to 0.0 in labels with no predicted samples. Use `zero_division` parameter to control this behavior.\n",
            "  _warn_prf(average, modifier, msg_start, len(result))\n"
          ]
        }
      ]
    }
  ]
}